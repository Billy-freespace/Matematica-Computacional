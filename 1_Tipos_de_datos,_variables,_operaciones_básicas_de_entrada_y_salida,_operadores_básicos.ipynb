{
  "nbformat": 4,
  "nbformat_minor": 0,
  "metadata": {
    "colab": {
      "name": "1 - Tipos de datos, variables, operaciones básicas de entrada y salida, operadores básicos.ipynb",
      "provenance": [],
      "include_colab_link": true
    },
    "kernelspec": {
      "name": "python3",
      "display_name": "Python 3"
    }
  },
  "cells": [
    {
      "cell_type": "markdown",
      "metadata": {
        "id": "view-in-github",
        "colab_type": "text"
      },
      "source": [
        "<a href=\"https://colab.research.google.com/github/Billy-freespace/Matematica-Computacional/blob/main/1_Tipos_de_datos%2C_variables%2C_operaciones_b%C3%A1sicas_de_entrada_y_salida%2C_operadores_b%C3%A1sicos.ipynb\" target=\"_parent\"><img src=\"https://colab.research.google.com/assets/colab-badge.svg\" alt=\"Open In Colab\"/></a>"
      ]
    },
    {
      "cell_type": "markdown",
      "metadata": {
        "id": "O8VnieJpj2p6"
      },
      "source": [
        "## 1.1 Tipos de datos y variables"
      ]
    },
    {
      "cell_type": "code",
      "metadata": {
        "id": "LLRxc-2rh4_v",
        "outputId": "e5f3a058-9ec8-4636-b20f-60b627f5a622",
        "colab": {
          "base_uri": "https://localhost:8080/"
        }
      },
      "source": [
        "#Todos son objetos en Python\n",
        "print(type(\"Hola\"))\n",
        "print(type(True))\n",
        "print(type(1.0))\n",
        "print(type(1))\n",
        "print(type(0b101))"
      ],
      "execution_count": null,
      "outputs": [
        {
          "output_type": "stream",
          "text": [
            "<class 'str'>\n",
            "<class 'bool'>\n",
            "<class 'float'>\n",
            "<class 'int'>\n",
            "<class 'int'>\n"
          ],
          "name": "stdout"
        }
      ]
    },
    {
      "cell_type": "code",
      "metadata": {
        "id": "U7eTJOAHjmh2",
        "outputId": "e369ac4a-4e90-4afd-8061-1eb55d4e6351",
        "colab": {
          "base_uri": "https://localhost:8080/"
        }
      },
      "source": [
        "# Podemos utilizar identificadores con caracteres del español\n",
        "púño = 5\n",
        "print(\"púño:\",púño)\n",
        "print(\"Dirección de memoria del objeto púño:\",id(púño))"
      ],
      "execution_count": null,
      "outputs": [
        {
          "output_type": "stream",
          "text": [
            "púño: 5\n",
            "Dirección de memoria del objeto púño: 10914624\n"
          ],
          "name": "stdout"
        }
      ]
    },
    {
      "cell_type": "code",
      "metadata": {
        "id": "zJRi-SQHkf1i",
        "outputId": "3d656040-379c-4bbe-90c8-7b1388d1e76c",
        "colab": {
          "base_uri": "https://localhost:8080/"
        }
      },
      "source": [
        "a = 3 \n",
        "print(\"Dirección de memoria:\",id(a))\n",
        "a = 4 # objeto distinto al anterior, aunque utiliza el mismo identificador\n",
        "print(\"Dirección de memoria:\",id(a))"
      ],
      "execution_count": null,
      "outputs": [
        {
          "output_type": "stream",
          "text": [
            "Dirección de memoria: 10914560\n",
            "Dirección de memoria: 10914592\n"
          ],
          "name": "stdout"
        }
      ]
    },
    {
      "cell_type": "code",
      "metadata": {
        "id": "qSPDJLwcn9_o",
        "outputId": "379825d6-2f1c-4445-a58d-359fa9ba9d8a",
        "colab": {
          "base_uri": "https://localhost:8080/"
        }
      },
      "source": [
        "# ¡Fuga de memoria!\n",
        "a = 5\n",
        "print(\"Dirección de memoria del primer objeto de nombre a:\",id(a))\n",
        "a = a + 7\n",
        "print(\"a:\",a)\n",
        "print(\"Dirección de memoria del segundo objeto de nombre a:\",id(a))"
      ],
      "execution_count": null,
      "outputs": [
        {
          "output_type": "stream",
          "text": [
            "Dirección de memoria del primer objeto de nombre a: 10914624\n",
            "a: 12\n",
            "Dirección de memoria del segundo objeto de nombre a: 10914848\n"
          ],
          "name": "stdout"
        }
      ]
    },
    {
      "cell_type": "code",
      "metadata": {
        "id": "VYt87LvamqHa",
        "outputId": "fa005aea-efe0-4180-a54a-462e72e911b9",
        "colab": {
          "base_uri": "https://localhost:8080/"
        }
      },
      "source": [
        "# La clase 'int' puede ser representada en otras bases\n",
        "num = 0b101 # literal binario\n",
        "print(\"num:\",num)\n",
        "num = 0x1f # literal hexadecimal\n",
        "print(\"num:\",num)\n",
        "num = 0o17 # literal octal\n",
        "print(\"num:\",num)"
      ],
      "execution_count": null,
      "outputs": [
        {
          "output_type": "stream",
          "text": [
            "num: 5\n",
            "num: 31\n",
            "num: 15\n"
          ],
          "name": "stdout"
        }
      ]
    },
    {
      "cell_type": "markdown",
      "metadata": {
        "id": "xL0aPxKRt5bT"
      },
      "source": [
        "En Python no hay modificadores que tornen una variable sólo de lectura, i.e., constante. Sin embargo, por convención universal, se utilizan identificadores en mayúscula y _ para el nombre de 'constantes'"
      ]
    },
    {
      "cell_type": "code",
      "metadata": {
        "id": "Zkxsmo4utbfH"
      },
      "source": [
        "PI = 3.14\n",
        "SALUDO_FRATERNO = '¡Hola, hermano!'\n",
        "DE_PIES_A_METROS = 0.3048"
      ],
      "execution_count": null,
      "outputs": []
    },
    {
      "cell_type": "markdown",
      "metadata": {
        "id": "swNsTTYXrBt5"
      },
      "source": [
        "## 1.2 Operaciones básicas de entrada y salida"
      ]
    },
    {
      "cell_type": "code",
      "metadata": {
        "id": "WTGsPqTnq1UU",
        "outputId": "363f44be-9655-4f75-8a04-fe9fc5d0df93",
        "colab": {
          "base_uri": "https://localhost:8080/"
        }
      },
      "source": [
        "msj = \"Hello\\n\\n\\tWorld\"\n",
        "print(msj)\n",
        "msj = \"Hello\\bWorld\"\n",
        "print(msj)\n",
        "msj = \"Hello\\\\ \\\"wonderful\\\" World\"\n",
        "print(msj)"
      ],
      "execution_count": null,
      "outputs": [
        {
          "output_type": "stream",
          "text": [
            "Hello\n",
            "\n",
            "\tWorld\n",
            "Hello\bWorld\n",
            "Hello\\ \"wonderful\" World\n"
          ],
          "name": "stdout"
        }
      ]
    },
    {
      "cell_type": "code",
      "metadata": {
        "id": "vD6I270RviN1",
        "outputId": "f6dd3765-e627-4c2e-e75c-fa948ce7b7f3",
        "colab": {
          "base_uri": "https://localhost:8080/"
        }
      },
      "source": [
        "print(\"Mi\", \"nombre\", \"es\", \"Monty\", \"Python.\", end=\"\\t2.\"); print(\"test1\"); print(\"test2\") # default end=\"\\n\"\n",
        "print(\"Mi\", \"nombre\", \"es\", \"Monty\", \"Python.\", sep=\"\\t\") # default sep=\" \"\n",
        "print()\n",
        "print(\"Mi\", \"nombre\", \"es\", sep=\"_\", end=\"*\")\n",
        "print(\"Monty\", \"Python.\", sep=\"*\", end=\"*\\n\")\n",
        "print()\n",
        "print('Me gusta \"Monty Python\"')"
      ],
      "execution_count": null,
      "outputs": [
        {
          "output_type": "stream",
          "text": [
            "Mi nombre es Monty Python.\t2.test1\n",
            "test2\n",
            "Mi\tnombre\tes\tMonty\tPython.\n",
            "\n",
            "Mi_nombre_es*Monty*Python.*\n",
            "\n",
            "Me gusta \"Monty Python\"\n"
          ],
          "name": "stdout"
        }
      ]
    },
    {
      "cell_type": "code",
      "metadata": {
        "id": "SEvYHNmUvjFV",
        "outputId": "95db2aa3-8196-4af7-a7e1-d3f030b15b7e",
        "colab": {
          "base_uri": "https://localhost:8080/"
        }
      },
      "source": [
        "dia = input(\"Ingrese el día de hoy: \")\n",
        "print(\"dia:\",dia)\n",
        "print(\"type(dia):\",type(dia))\n",
        "# ¡dia + 1  nos da Error!\n",
        "dia = int(dia)\n",
        "print(\"type(dia):\",type(dia))\n",
        "print(\"dia + 1:\", dia + 1)\n"
      ],
      "execution_count": null,
      "outputs": [
        {
          "output_type": "stream",
          "text": [
            "Ingrese el día de hoy: 3\n",
            "dia: 3\n",
            "type(dia): <class 'str'>\n",
            "type(dia): <class 'int'>\n",
            "dia + 1: 4\n"
          ],
          "name": "stdout"
        }
      ]
    },
    {
      "cell_type": "markdown",
      "metadata": {
        "id": "V8Xv4EM6s1-c"
      },
      "source": [
        "## 1.3 Operadores básicos"
      ]
    },
    {
      "cell_type": "code",
      "metadata": {
        "id": "KRNkrbE-sy-a",
        "outputId": "ddf74849-2b9b-4ad7-97b9-512143d34e4c",
        "colab": {
          "base_uri": "https://localhost:8080/"
        }
      },
      "source": [
        "# operadores de literales en otra base\n",
        "num = 17 \n",
        "print(\"num:\",hex(num))\n",
        "print(\"num:\",oct(num))\n",
        "print(\"num:\",bin(num))\n",
        "print(\"type(dia):\",type(num))"
      ],
      "execution_count": null,
      "outputs": [
        {
          "output_type": "stream",
          "text": [
            "num: 0x11\n",
            "num: 0o21\n",
            "num: 0b10001\n",
            "type(dia): <class 'int'>\n"
          ],
          "name": "stdout"
        }
      ]
    },
    {
      "cell_type": "code",
      "metadata": {
        "id": "iDB9MUVctMiR",
        "outputId": "408630fc-a56b-45f5-b30a-0bfa8d405ea8",
        "colab": {
          "base_uri": "https://localhost:8080/"
        }
      },
      "source": [
        "# Conversión de tipos y operador int\n",
        "print(int(True))\n",
        "print(int(False))\n",
        "print(True < False)\n",
        "print(int(True < False))\n",
        "print(False)\n",
        "print('False')"
      ],
      "execution_count": null,
      "outputs": [
        {
          "output_type": "stream",
          "text": [
            "1\n",
            "0\n",
            "False\n",
            "0\n",
            "False\n",
            "False\n"
          ],
          "name": "stdout"
        }
      ]
    },
    {
      "cell_type": "code",
      "metadata": {
        "id": "RONYrs4OhzVu",
        "outputId": "259433eb-f6c5-4792-d35c-f4ad2b2d9b1b",
        "colab": {
          "base_uri": "https://localhost:8080/"
        }
      },
      "source": [
        "\"\"\" Operadores aritméticos\n",
        " Operador de div: //\n",
        " Operador de mod: %\n",
        " Operador de división: /\n",
        " Operador de exponenciacion: **\n",
        "\"\"\"\n",
        "print(1//2)\n",
        "print(1%2)\n",
        "print(1/2)\n",
        "print(2**10)"
      ],
      "execution_count": null,
      "outputs": [
        {
          "output_type": "stream",
          "text": [
            "0\n",
            "1\n",
            "0.5\n",
            "1024\n"
          ],
          "name": "stdout"
        }
      ]
    },
    {
      "cell_type": "code",
      "metadata": {
        "id": "JgVKE3wwuelt",
        "outputId": "554261cf-164b-4bb7-a9fe-bd6c9c2baba1",
        "colab": {
          "base_uri": "https://localhost:8080/"
        }
      },
      "source": [
        "# operador round y notación científica\n",
        "print(round(5.655,2))\n",
        "print(round(5.655,1))\n",
        "print(round(5.649,1))\n",
        "print(2.57E3) "
      ],
      "execution_count": null,
      "outputs": [
        {
          "output_type": "stream",
          "text": [
            "5.66\n",
            "5.7\n",
            "5.6\n",
            "2570.0\n"
          ],
          "name": "stdout"
        }
      ]
    },
    {
      "cell_type": "markdown",
      "metadata": {
        "id": "c3up0jeQY-aC"
      },
      "source": [
        "## 1.4 Aplicaciones"
      ]
    },
    {
      "cell_type": "code",
      "metadata": {
        "id": "9U0hhVtiZBoB",
        "outputId": "566a6b64-a474-40e0-f66d-4e66ffa1fff9",
        "colab": {
          "base_uri": "https://localhost:8080/"
        }
      },
      "source": [
        "# Cálculo del IMC\n",
        "\n",
        "nombre = input(\"Ingrese su nombre: \")\n",
        "masa = float(input(\"Ingreses su masa en kg.: \"))\n",
        "altura = float(input(\"Ingreses su altura en m.: \"))\n",
        "imc = masa/(altura**2)\n",
        "print(nombre,\"su IMC es\",round(imc,2))"
      ],
      "execution_count": null,
      "outputs": [
        {
          "output_type": "stream",
          "text": [
            "Ingrese su nombre: Juan\n",
            "Ingreses su masa en kg.: 68\n",
            "Ingreses su altura en m.: 1.71\n",
            "Juan su IMC es 23.26\n"
          ],
          "name": "stdout"
        }
      ]
    }
  ]
}