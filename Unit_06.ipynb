{
  "nbformat": 4,
  "nbformat_minor": 0,
  "metadata": {
    "colab": {
      "name": "Unit_06.ipynb",
      "provenance": [],
      "include_colab_link": true
    },
    "kernelspec": {
      "name": "python3",
      "display_name": "Python 3"
    }
  },
  "cells": [
    {
      "cell_type": "markdown",
      "metadata": {
        "id": "view-in-github",
        "colab_type": "text"
      },
      "source": [
        "<a href=\"https://colab.research.google.com/github/Billy-freespace/Matematica-Computacional/blob/main/Unit_06.ipynb\" target=\"_parent\"><img src=\"https://colab.research.google.com/assets/colab-badge.svg\" alt=\"Open In Colab\"/></a>"
      ]
    },
    {
      "cell_type": "markdown",
      "metadata": {
        "id": "cb1gLKXB1T50"
      },
      "source": [
        "# Unit 06"
      ]
    },
    {
      "cell_type": "code",
      "metadata": {
        "id": "utd60Kdukyc7"
      },
      "source": [
        "import sympy as sp\n",
        "\n",
        "sp.init_printing(use_unicode=True)\n",
        "x1, x2, a = sp.symbols('x1 x2 a', real=True)\n",
        "\n",
        "def evaluate(func, x):\n",
        "\treturn func.evalf(subs={x1: x[0], x2: x[1]})"
      ],
      "execution_count": null,
      "outputs": []
    },
    {
      "cell_type": "code",
      "metadata": {
        "id": "qO8aDTBBk1Gc",
        "colab": {
          "base_uri": "https://localhost:8080/",
          "height": 51
        },
        "outputId": "36a9d034-7b31-4881-fcf9-668e0e25fccb"
      },
      "source": [
        "f = 14 * ((x1 - 7)**2 + (x2 - 2)**2)**0.5 + \\\n",
        "    20 * ((x1 - 5)**2 + (x2 + 3)**2)**0.5 + \\\n",
        "    30 * ((x1 + 6)**2 + (x2 - 4)**2)**0.5\n",
        "f"
      ],
      "execution_count": null,
      "outputs": [
        {
          "output_type": "execute_result",
          "data": {
            "image/png": "[encoded data removed]",
            "text/latex": "$$14 \\left(\\left(x_{1} - 7\\right)^{2} + \\left(x_{2} - 2\\right)^{2}\\right)^{0.5} + 20 \\left(\\left(x_{1} - 5\\right)^{2} + \\left(x_{2} + 3\\right)^{2}\\right)^{0.5} + 30 \\left(\\left(x_{1} + 6\\right)^{2} + \\left(x_{2} - 4\\right)^{2}\\right)^{0.5}$$",
            "text/plain": [
              "                          0.5                             0.5                 \n",
              "   ⎛        2           2⎞         ⎛        2           2⎞         ⎛        2 \n",
              "14⋅⎝(x₁ - 7)  + (x₂ - 2) ⎠    + 20⋅⎝(x₁ - 5)  + (x₂ + 3) ⎠    + 30⋅⎝(x₁ + 6)  \n",
              "\n",
              "            0.5\n",
              "          2⎞   \n",
              "+ (x₂ - 4) ⎠   "
            ]
          },
          "metadata": {
            "tags": []
          },
          "execution_count": 2
        }
      ]
    },
    {
      "cell_type": "markdown",
      "metadata": {
        "id": "_5CDoV1km9IB"
      },
      "source": [
        "Expression of **gradient** of `f`:"
      ]
    },
    {
      "cell_type": "code",
      "metadata": {
        "id": "Fq38Lt3UmjE7",
        "colab": {
          "base_uri": "https://localhost:8080/",
          "height": 81
        },
        "outputId": "a3be0566-5305-400d-b374-1b7c5f6843b3"
      },
      "source": [
        "gradient = sp.Matrix([f]).jacobian((x1,x2)).T\n",
        "gradient"
      ],
      "execution_count": null,
      "outputs": [
        {
          "output_type": "execute_result",
          "data": {
            "text/latex": "$$\\left[\\begin{matrix}\\frac{14 \\left(1.0 x_{1} - 7.0\\right)}{\\left(\\left(x_{1} - 7\\right)^{2} + \\left(x_{2} - 2\\right)^{2}\\right)^{0.5}} + \\frac{20 \\left(1.0 x_{1} - 5.0\\right)}{\\left(\\left(x_{1} - 5\\right)^{2} + \\left(x_{2} + 3\\right)^{2}\\right)^{0.5}} + \\frac{30 \\left(1.0 x_{1} + 6.0\\right)}{\\left(\\left(x_{1} + 6\\right)^{2} + \\left(x_{2} - 4\\right)^{2}\\right)^{0.5}}\\\\\\frac{30 \\left(1.0 x_{2} - 4.0\\right)}{\\left(\\left(x_{1} + 6\\right)^{2} + \\left(x_{2} - 4\\right)^{2}\\right)^{0.5}} + \\frac{14 \\left(1.0 x_{2} - 2.0\\right)}{\\left(\\left(x_{1} - 7\\right)^{2} + \\left(x_{2} - 2\\right)^{2}\\right)^{0.5}} + \\frac{20 \\left(1.0 x_{2} + 3.0\\right)}{\\left(\\left(x_{1} - 5\\right)^{2} + \\left(x_{2} + 3\\right)^{2}\\right)^{0.5}}\\end{matrix}\\right]$$",
            "text/plain": [
              "⎡                                         -0.5                                \n",
              "⎢                  ⎛        2           2⎞                         ⎛        2 \n",
              "⎢14⋅(1.0⋅x₁ - 7.0)⋅⎝(x₁ - 7)  + (x₂ - 2) ⎠     + 20⋅(1.0⋅x₁ - 5.0)⋅⎝(x₁ - 5)  \n",
              "⎢                                                                             \n",
              "⎢                                         -0.5                                \n",
              "⎢                  ⎛        2           2⎞                         ⎛        2 \n",
              "⎣30⋅(1.0⋅x₂ - 4.0)⋅⎝(x₁ + 6)  + (x₂ - 4) ⎠     + 14⋅(1.0⋅x₂ - 2.0)⋅⎝(x₁ - 7)  \n",
              "\n",
              "            -0.5                                            -0.5⎤\n",
              "          2⎞                         ⎛        2           2⎞    ⎥\n",
              "+ (x₂ + 3) ⎠     + 30⋅(1.0⋅x₁ + 6.0)⋅⎝(x₁ + 6)  + (x₂ - 4) ⎠    ⎥\n",
              "                                                                ⎥\n",
              "            -0.5                                            -0.5⎥\n",
              "          2⎞                         ⎛        2           2⎞    ⎥\n",
              "+ (x₂ - 2) ⎠     + 20⋅(1.0⋅x₂ + 3.0)⋅⎝(x₁ - 5)  + (x₂ + 3) ⎠    ⎦"
            ]
          },
          "metadata": {
            "tags": []
          },
          "execution_count": 4
        }
      ]
    },
    {
      "cell_type": "markdown",
      "metadata": {
        "id": "SHySx2bNFPD7"
      },
      "source": [
        "Expression of **Hessian** of `f`:"
      ]
    },
    {
      "cell_type": "code",
      "metadata": {
        "id": "bS9jYTjKoW0b",
        "colab": {
          "base_uri": "https://localhost:8080/",
          "height": 101
        },
        "outputId": "69a86721-d8be-45ee-ad87-1e24d29f0c62"
      },
      "source": [
        "Hessian = sp.hessian(f,(x1,x2))\n",
        "Hessian"
      ],
      "execution_count": null,
      "outputs": [
        {
          "output_type": "execute_result",
          "data": {
            "text/latex": "$$\\left[\\begin{matrix}\\frac{30 \\left(- 1.0 x_{1} - 6.0\\right) \\left(1.0 x_{1} + 6.0\\right)}{\\left(\\left(x_{1} + 6\\right)^{2} + \\left(x_{2} - 4\\right)^{2}\\right)^{1.5}} + \\frac{20 \\left(- 1.0 x_{1} + 5.0\\right) \\left(1.0 x_{1} - 5.0\\right)}{\\left(\\left(x_{1} - 5\\right)^{2} + \\left(x_{2} + 3\\right)^{2}\\right)^{1.5}} + \\frac{14 \\left(- 1.0 x_{1} + 7.0\\right) \\left(1.0 x_{1} - 7.0\\right)}{\\left(\\left(x_{1} - 7\\right)^{2} + \\left(x_{2} - 2\\right)^{2}\\right)^{1.5}} + \\frac{14.0}{\\left(\\left(x_{1} - 7\\right)^{2} + \\left(x_{2} - 2\\right)^{2}\\right)^{0.5}} + \\frac{20.0}{\\left(\\left(x_{1} - 5\\right)^{2} + \\left(x_{2} + 3\\right)^{2}\\right)^{0.5}} + \\frac{30.0}{\\left(\\left(x_{1} + 6\\right)^{2} + \\left(x_{2} - 4\\right)^{2}\\right)^{0.5}} & \\frac{14 \\left(1.0 x_{1} - 7.0\\right) \\left(- 1.0 x_{2} + 2.0\\right)}{\\left(\\left(x_{1} - 7\\right)^{2} + \\left(x_{2} - 2\\right)^{2}\\right)^{1.5}} + \\frac{20 \\left(1.0 x_{1} - 5.0\\right) \\left(- 1.0 x_{2} - 3.0\\right)}{\\left(\\left(x_{1} - 5\\right)^{2} + \\left(x_{2} + 3\\right)^{2}\\right)^{1.5}} + \\frac{30 \\left(1.0 x_{1} + 6.0\\right) \\left(- 1.0 x_{2} + 4.0\\right)}{\\left(\\left(x_{1} + 6\\right)^{2} + \\left(x_{2} - 4\\right)^{2}\\right)^{1.5}}\\\\\\frac{14 \\left(1.0 x_{1} - 7.0\\right) \\left(- 1.0 x_{2} + 2.0\\right)}{\\left(\\left(x_{1} - 7\\right)^{2} + \\left(x_{2} - 2\\right)^{2}\\right)^{1.5}} + \\frac{20 \\left(1.0 x_{1} - 5.0\\right) \\left(- 1.0 x_{2} - 3.0\\right)}{\\left(\\left(x_{1} - 5\\right)^{2} + \\left(x_{2} + 3\\right)^{2}\\right)^{1.5}} + \\frac{30 \\left(1.0 x_{1} + 6.0\\right) \\left(- 1.0 x_{2} + 4.0\\right)}{\\left(\\left(x_{1} + 6\\right)^{2} + \\left(x_{2} - 4\\right)^{2}\\right)^{1.5}} & \\frac{20 \\left(- 1.0 x_{2} - 3.0\\right) \\left(1.0 x_{2} + 3.0\\right)}{\\left(\\left(x_{1} - 5\\right)^{2} + \\left(x_{2} + 3\\right)^{2}\\right)^{1.5}} + \\frac{14 \\left(- 1.0 x_{2} + 2.0\\right) \\left(1.0 x_{2} - 2.0\\right)}{\\left(\\left(x_{1} - 7\\right)^{2} + \\left(x_{2} - 2\\right)^{2}\\right)^{1.5}} + \\frac{30 \\left(- 1.0 x_{2} + 4.0\\right) \\left(1.0 x_{2} - 4.0\\right)}{\\left(\\left(x_{1} + 6\\right)^{2} + \\left(x_{2} - 4\\right)^{2}\\right)^{1.5}} + \\frac{14.0}{\\left(\\left(x_{1} - 7\\right)^{2} + \\left(x_{2} - 2\\right)^{2}\\right)^{0.5}} + \\frac{20.0}{\\left(\\left(x_{1} - 5\\right)^{2} + \\left(x_{2} + 3\\right)^{2}\\right)^{0.5}} + \\frac{30.0}{\\left(\\left(x_{1} + 6\\right)^{2} + \\left(x_{2} - 4\\right)^{2}\\right)^{0.5}}\\end{matrix}\\right]$$",
            "text/plain": [
              "⎡                                                         -1.5                \n",
              "⎢                                  ⎛        2           2⎞                    \n",
              "⎢30⋅(-1.0⋅x₁ - 6.0)⋅(1.0⋅x₁ + 6.0)⋅⎝(x₁ + 6)  + (x₂ - 4) ⎠     + 20⋅(-1.0⋅x₁ +\n",
              "⎢                                                                             \n",
              "⎢                                                                             \n",
              "⎢                                                                             \n",
              "⎣                                                    14⋅(1.0⋅x₁ - 7.0)⋅(-1.0⋅x\n",
              "\n",
              "                                            -1.5                              \n",
              "                     ⎛        2           2⎞                                  \n",
              " 5.0)⋅(1.0⋅x₁ - 5.0)⋅⎝(x₁ - 5)  + (x₂ + 3) ⎠     + 14⋅(-1.0⋅x₁ + 7.0)⋅(1.0⋅x₁ \n",
              "                                                                              \n",
              "                                -1.5                                          \n",
              "         ⎛        2           2⎞                                         ⎛    \n",
              "₂ + 2.0)⋅⎝(x₁ - 7)  + (x₂ - 2) ⎠     + 20⋅(1.0⋅x₁ - 5.0)⋅(-1.0⋅x₂ - 3.0)⋅⎝(x₁ \n",
              "\n",
              "                              -1.5                               -0.5         \n",
              "       ⎛        2           2⎞            ⎛        2           2⎞            ⎛\n",
              "- 7.0)⋅⎝(x₁ - 7)  + (x₂ - 2) ⎠     + 14.0⋅⎝(x₁ - 7)  + (x₂ - 2) ⎠     + 20.0⋅⎝\n",
              "                                                                              \n",
              "                  -1.5                                                        \n",
              "    2           2⎞                                         ⎛        2         \n",
              "- 5)  + (x₂ + 3) ⎠     + 30⋅(1.0⋅x₁ + 6.0)⋅(-1.0⋅x₂ + 4.0)⋅⎝(x₁ + 6)  + (x₂ - \n",
              "\n",
              "                      -0.5                               -0.5                 \n",
              "        2           2⎞            ⎛        2           2⎞                     \n",
              "(x₁ - 5)  + (x₂ + 3) ⎠     + 30.0⋅⎝(x₁ + 6)  + (x₂ - 4) ⎠                     \n",
              "                                                                              \n",
              "    -1.5                                                                      \n",
              "  2⎞                                                                          \n",
              "4) ⎠                                                           20⋅(-1.0⋅x₂ - 3\n",
              "\n",
              "                                                                              \n",
              "                                                                       ⎛      \n",
              "                                     14⋅(1.0⋅x₁ - 7.0)⋅(-1.0⋅x₂ + 2.0)⋅⎝(x₁ - \n",
              "                                                                              \n",
              "                                          -1.5                                \n",
              "                   ⎛        2           2⎞                                    \n",
              ".0)⋅(1.0⋅x₂ + 3.0)⋅⎝(x₁ - 5)  + (x₂ + 3) ⎠     + 14⋅(-1.0⋅x₂ + 2.0)⋅(1.0⋅x₂ - \n",
              "\n",
              "                -1.5                                                          \n",
              "  2           2⎞                                         ⎛        2           \n",
              "7)  + (x₂ - 2) ⎠     + 20⋅(1.0⋅x₁ - 5.0)⋅(-1.0⋅x₂ - 3.0)⋅⎝(x₁ - 5)  + (x₂ + 3)\n",
              "                                                                              \n",
              "                            -1.5                                              \n",
              "     ⎛        2           2⎞                                         ⎛        \n",
              "2.0)⋅⎝(x₁ - 7)  + (x₂ - 2) ⎠     + 30⋅(-1.0⋅x₂ + 4.0)⋅(1.0⋅x₂ - 4.0)⋅⎝(x₁ + 6)\n",
              "\n",
              "  -1.5                                                            -1.5        \n",
              "2⎞                                         ⎛        2           2⎞            \n",
              " ⎠     + 30⋅(1.0⋅x₁ + 6.0)⋅(-1.0⋅x₂ + 4.0)⋅⎝(x₁ + 6)  + (x₂ - 4) ⎠            \n",
              "                                                                              \n",
              "              -1.5                               -0.5                         \n",
              "2           2⎞            ⎛        2           2⎞            ⎛        2       \n",
              "  + (x₂ - 4) ⎠     + 14.0⋅⎝(x₁ - 7)  + (x₂ - 2) ⎠     + 20.0⋅⎝(x₁ - 5)  + (x₂ \n",
              "\n",
              "                                             ⎤\n",
              "                                             ⎥\n",
              "                                             ⎥\n",
              "                                             ⎥\n",
              "      -0.5                               -0.5⎥\n",
              "    2⎞            ⎛        2           2⎞    ⎥\n",
              "+ 3) ⎠     + 30.0⋅⎝(x₁ + 6)  + (x₂ - 4) ⎠    ⎦"
            ]
          },
          "metadata": {
            "tags": []
          },
          "execution_count": 5
        }
      ]
    },
    {
      "cell_type": "code",
      "metadata": {
        "colab": {
          "base_uri": "https://localhost:8080/",
          "height": 37
        },
        "id": "4E6pOG1ZaydA",
        "outputId": "012a212b-8170-4948-84de-0d540086ccaa"
      },
      "source": [
        "x = sp.Matrix([[0],[0]])\n",
        "evaluate(f,x)"
      ],
      "execution_count": null,
      "outputs": [
        {
          "output_type": "execute_result",
          "data": {
            "image/png": "[encoded data removed]",
            "text/latex": "$$434.873652874673$$",
            "text/plain": [
              "434.873652874673"
            ]
          },
          "metadata": {
            "tags": []
          },
          "execution_count": 10
        }
      ]
    },
    {
      "cell_type": "code",
      "metadata": {
        "colab": {
          "base_uri": "https://localhost:8080/",
          "height": 58
        },
        "id": "sv8dxPEca8lc",
        "outputId": "2bcfe91a-1f1b-4640-f6b7-6292d7c8bb6d"
      },
      "source": [
        "grad = evaluate(gradient,x)\n",
        "grad"
      ],
      "execution_count": null,
      "outputs": [
        {
          "output_type": "execute_result",
          "data": {
            "text/latex": "$$\\left[\\begin{matrix}-5.6496849510871\\\\-10.1971865687696\\end{matrix}\\right]$$",
            "text/plain": [
              "⎡-5.6496849510871 ⎤\n",
              "⎢                 ⎥\n",
              "⎣-10.1971865687696⎦"
            ]
          },
          "metadata": {
            "tags": []
          },
          "execution_count": 11
        }
      ]
    }
  ]
}